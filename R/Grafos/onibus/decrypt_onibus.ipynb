{
 "cells": [
  {
   "cell_type": "code",
   "execution_count": 2,
   "metadata": {},
   "outputs": [],
   "source": [
    "from Crypto.Cipher import AES\n",
    "from Crypto.Hash import SHA256"
   ]
  },
  {
   "cell_type": "code",
   "execution_count": null,
   "metadata": {},
   "outputs": [],
   "source": [
    "h = SHA256.new()\n",
    "h.update(b'senha')\n",
    "print(h.hexdigest()[0:32])"
   ]
  },
  {
   "cell_type": "code",
   "execution_count": null,
   "metadata": {},
   "outputs": [],
   "source": [
    "with open(\"onibus.zip\", mode=\"rb\") as zip_file:\n",
    "    contents = zip_file.read()\n",
    "\n",
    "key = b'senha'\n",
    "\n",
    "cipher = AES.new(key, AES.MODE_EAX)\n",
    "nonce = cipher.nonce\n",
    "\n",
    "ciphertext, tag = cipher.encrypt_and_digest(contents)\n",
    "\n",
    "file = open('onibus_crypto.zip', 'wb')\n",
    "file.write(ciphertext)\n",
    "file.close()"
   ]
  },
  {
   "cell_type": "code",
   "execution_count": null,
   "metadata": {},
   "outputs": [],
   "source": [
    "with open(\"onibus_crypto.zip\", mode=\"rb\") as zip_file:\n",
    "    contents = zip_file.read()\n",
    "\n",
    "key = b'senha'\n",
    "cipher = AES.new(key, AES.MODE_EAX, nonce=nonce)\n",
    "plaintext = cipher.decrypt(contents)\n",
    "\n",
    "file = open('novo.zip', 'wb')\n",
    "file.write(plaintext)\n",
    "file.close()"
   ]
  }
 ],
 "metadata": {
  "kernelspec": {
   "display_name": "Mineracao",
   "language": "python",
   "name": "python3"
  },
  "language_info": {
   "codemirror_mode": {
    "name": "ipython",
    "version": 3
   },
   "file_extension": ".py",
   "mimetype": "text/x-python",
   "name": "python",
   "nbconvert_exporter": "python",
   "pygments_lexer": "ipython3",
   "version": "3.11.3"
  },
  "orig_nbformat": 4
 },
 "nbformat": 4,
 "nbformat_minor": 2
}
